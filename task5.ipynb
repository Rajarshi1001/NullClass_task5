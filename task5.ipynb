{
 "cells": [
  {
   "cell_type": "markdown",
   "metadata": {},
   "source": [
    "# Importing the necessary libraries"
   ]
  },
  {
   "cell_type": "code",
   "execution_count": 1,
   "metadata": {},
   "outputs": [],
   "source": [
    "import collections\n",
    "from datetime import datetime\n",
    "import numpy as np\n",
    "import json\n",
    "import tensorflow.strings as tf_strings\n",
    "from keras.preprocessing.text import tokenizer_from_json\n",
    "from keras.preprocessing.text import Tokenizer\n",
    "from keras.utils import pad_sequences\n",
    "from keras.models import Model, Sequential, load_model\n",
    "from keras.layers import Input, Dense, LSTM, Dropout, Activation, TimeDistributed, TextVectorization\n",
    "from keras.optimizers import Adam\n",
    "from keras.losses import sparse_categorical_crossentropy"
   ]
  },
  {
   "cell_type": "markdown",
   "metadata": {},
   "source": [
    "# Verify GPU"
   ]
  },
  {
   "cell_type": "code",
   "execution_count": 2,
   "metadata": {},
   "outputs": [
    {
     "name": "stdout",
     "output_type": "stream",
     "text": [
      "[name: \"/device:CPU:0\"\n",
      "device_type: \"CPU\"\n",
      "memory_limit: 268435456\n",
      "locality {\n",
      "}\n",
      "incarnation: 15580393273827151880\n",
      "xla_global_id: -1\n",
      ", name: \"/device:GPU:0\"\n",
      "device_type: \"GPU\"\n",
      "memory_limit: 2236245607\n",
      "locality {\n",
      "  bus_id: 1\n",
      "  links {\n",
      "  }\n",
      "}\n",
      "incarnation: 8544199716593428306\n",
      "physical_device_desc: \"device: 0, name: NVIDIA GeForce GTX 1650 Ti, pci bus id: 0000:01:00.0, compute capability: 7.5\"\n",
      "xla_global_id: 416903419\n",
      "]\n"
     ]
    }
   ],
   "source": [
    "from tensorflow.python.client import device_lib\n",
    "print(device_lib.list_local_devices())"
   ]
  },
  {
   "cell_type": "markdown",
   "metadata": {},
   "source": [
    "# Loading the tokenizers and pretrained model"
   ]
  },
  {
   "cell_type": "code",
   "execution_count": 3,
   "metadata": {},
   "outputs": [],
   "source": [
    "## loading the model\n",
    "\n",
    "model_hi = load_model('english_to_hindi_lstm_model')\n",
    "\n",
    "#load Tokenizer\n",
    "with open('english_tokenizer_hindi.json') as f:\n",
    "    data = json.load(f)\n",
    "    english_tokenizer = tokenizer_from_json(data)\n",
    "\n",
    "with open('hindi_tokenizer.json') as f:\n",
    "    data = json.load(f)\n",
    "    hindi_tokenizer = tokenizer_from_json(data)"
   ]
  },
  {
   "cell_type": "code",
   "execution_count": 4,
   "metadata": {},
   "outputs": [],
   "source": [
    "with open('sequence_length_hindi.json') as f:\n",
    "    max_length_hindi = json.load(f)\n",
    "    \n",
    "def pad(x, length=None):\n",
    "    return pad_sequences(x, maxlen=length, padding='post')\n",
    "\n",
    "def translate_to_hindi(english_sentence):\n",
    "    english_sentence = english_sentence.lower()\n",
    "    \n",
    "    english_sentence = english_sentence.replace(\".\", '')\n",
    "    english_sentence = english_sentence.replace(\"?\", '')\n",
    "    english_sentence = english_sentence.replace(\"!\", '')\n",
    "    english_sentence = english_sentence.replace(\",\", '')\n",
    "    \n",
    "    english_sentence = english_tokenizer.texts_to_sequences([english_sentence])\n",
    "    english_sentence = pad(english_sentence, max_length_hindi)\n",
    "    \n",
    "    english_sentence = english_sentence.reshape((-1,max_length_hindi))\n",
    "    \n",
    "    hindi_sentence = model_hi.predict(english_sentence)[0]\n",
    "    \n",
    "    hindi_sentence = [np.argmax(word) for word in hindi_sentence]\n",
    "\n",
    "    hindi_sentence = hindi_tokenizer.sequences_to_texts([hindi_sentence])[0]\n",
    "    \n",
    "    # print(\"hindi translation: \", hindi_sentence)\n",
    "    \n",
    "    return hindi_sentence"
   ]
  },
  {
   "cell_type": "code",
   "execution_count": 8,
   "metadata": {},
   "outputs": [
    {
     "name": "stdout",
     "output_type": "stream",
     "text": [
      "1/1 [==============================] - 0s 120ms/step\n",
      "वह के है।\n"
     ]
    }
   ],
   "source": [
    "\n",
    "# Function to check if a word starts with a vowel\n",
    "def starts_with_vowel(word):\n",
    "    vowels = 'AEIOUaeiou'\n",
    "    return word[0] in vowels\n",
    "\n",
    "# Function to translate English word to Hindi\n",
    "def translate(word):\n",
    "    \n",
    "    current_time = datetime.now()\n",
    "    current_hour = current_time.hour\n",
    "    \n",
    "    if starts_with_vowel(word):\n",
    "        if current_hour < 21 or current_hour > 21:\n",
    "            return \"This word starts with Vowels, provide some other words.\" \n",
    "        else:\n",
    "            translation = translate_to_hindi(word)\n",
    "            return translation\n",
    "    else:\n",
    "        translation = translate_to_hindi(word)\n",
    "        return translation\n",
    "\n",
    "\n",
    "# Example usage\n",
    "english_word = input(\"Enter an English word: \")\n",
    "\n",
    "translated_word = translate(english_word)\n",
    "print(translated_word)\n"
   ]
  }
 ],
 "metadata": {
  "kernelspec": {
   "display_name": "nulclass",
   "language": "python",
   "name": "python3"
  },
  "language_info": {
   "codemirror_mode": {
    "name": "ipython",
    "version": 3
   },
   "file_extension": ".py",
   "mimetype": "text/x-python",
   "name": "python",
   "nbconvert_exporter": "python",
   "pygments_lexer": "ipython3",
   "version": "3.9.19"
  }
 },
 "nbformat": 4,
 "nbformat_minor": 2
}
